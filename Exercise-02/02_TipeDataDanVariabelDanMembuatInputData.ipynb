{
 "cells": [
  {
   "cell_type": "markdown",
   "metadata": {},
   "source": [
    "# Exercise 2\n",
    "\n",
    "1. Salinlah kode di bawah ini dan isilah titik-titik sesuai dengan perintah yang ada\n",
    "![](./images/02_TipeDataDanVariabel.png)"
   ]
  },
  {
   "cell_type": "code",
   "execution_count": 3,
   "metadata": {},
   "outputs": [
    {
     "name": "stdout",
     "output_type": "stream",
     "text": [
      "Nama lengkap saya adalah Joevanka Amanda Harijanto\n",
      "Nama panggilan saya adalah Joeva\n",
      "Umur saya saat ini adalah 17\n",
      "Tipe data variabel _umur adalah <class 'int'>\n",
      "Umur saya saat ini adalah tujuh belas tahun\n",
      "Tipe data variabel _umur adalah <class 'str'>\n",
      "Tinggi badan saya adalah 152.5\n",
      "Tipe data variabel tinggi_data <class 'float'>\n",
      "Saya merupakan mahasiswa angkatan 2021 adalah True\n",
      "Tipe data variabel mahasiswaangkatan2021 adalah <class 'bool'>\n"
     ]
    }
   ],
   "source": [
    "Nama = \"Joevanka Amanda Harijanto\"\n",
    "nama = \"Joeva\"\n",
    "print(\"Nama lengkap saya adalah\", Nama)\n",
    "print(\"Nama panggilan saya adalah\", nama)\n",
    "\n",
    "_umur = 17\n",
    "print(\"Umur saya saat ini adalah\", _umur)\n",
    "print(\"Tipe data variabel _umur adalah\", type(_umur))\n",
    "_umur = \"tujuh belas tahun\"\n",
    "print(\"Umur saya saat ini adalah\", _umur)\n",
    "print(\"Tipe data variabel _umur adalah\", type(_umur))\n",
    "tinggi_badan = 152.5\n",
    "print(\"Tinggi badan saya adalah\", tinggi_badan)\n",
    "print(\"Tipe data variabel tinggi_data\", type(tinggi_badan))\n",
    "mahasiswaangkatan2021 = True\n",
    "print(\"Saya merupakan mahasiswa angkatan 2021 adalah\", mahasiswaangkatan2021)\n",
    "print(\"Tipe data variabel mahasiswaangkatan2021 adalah\", type(mahasiswaangkatan2021))"
   ]
  },
  {
   "cell_type": "markdown",
   "metadata": {},
   "source": [
    "2. Salinlah kode di bawah ini dan isilah titik-titik sesuai dengan perintah yang ada\n",
    "![](./images/02_MembuatInputData.png)"
   ]
  },
  {
   "cell_type": "code",
   "execution_count": 4,
   "metadata": {},
   "outputs": [
    {
     "name": "stdout",
     "output_type": "stream",
     "text": [
      "Program Konversi Panjang dalam Meter ke Berbagai Satuan\n",
      "\n",
      "\n",
      "20 m = 0.02 km\n",
      "20 m = 2000 cm\n",
      "20 m = 20000 mm\n",
      "20 m = 20000000 μm\n",
      "20 m = 20000000000 nm\n",
      "20 m = 787.4016 in\n",
      "20 m = 65.6168 ft\n",
      "20 m = 21.8723 yard\n",
      "20 m = 0.0124 mi\n",
      "20 m = 0.0108 nmi\n"
     ]
    }
   ],
   "source": [
    "print(\"Program Konversi Panjang dalam Meter ke Berbagai Satuan\")\n",
    "print(\"\")\n",
    "length = int(input(\"Masukkan nilai panjang dalam meter: \"))\n",
    "feet = length / 0.3048\n",
    "print(\"\")\n",
    "print(length, \"m =\", length / 1000, \"km\")\n",
    "print(length, \"m =\", length * 100, \"cm\")\n",
    "print(length, \"m =\", length * 1000, \"mm\")\n",
    "print(length, \"m =\", length * 1000000, \"μm\")\n",
    "print(length, \"m =\", length * 1000000000, \"nm\")\n",
    "\n",
    "print(length, \"m =\", round(feet * 12, 4), \"in\")\n",
    "print(length, \"m =\", round(feet, 4), \"ft\")\n",
    "print(length, \"m =\", round(feet / 3, 4), \"yard\")\n",
    "print(length, \"m =\", round(feet / 5280, 4), \"mi\")\n",
    "print(length, \"m =\", round(length / 1852, 4), \"nmi\")"
   ]
  },
  {
   "cell_type": "markdown",
   "metadata": {},
   "source": [
    "### Cara Pengumpulan\n",
    "\n",
    "1. Buka *New Terminal*\n",
    "2. Pastikan *path* Terminal adalah folder repositori kalian (NIM-Nama-Prokom).\n",
    "3. Tambahkan file yang akan ditrack dengan `git add <nama file>`. Nama file bisa diubah . (titik) yang artinya semua file dalam folder akan ditrack.\n",
    "4. Lakukan commit perubahan dengan `git commit -m <deskripsi>`.\n",
    "5. Lakukan push dengan `git push -u origin <nama branch>`. Nama branch dapat diketahui dengan `git branch`.\n",
    "6. Pastikan Exercise-02 telah terupload dan dapat diakses di repositori dengan mengaksesnya di browser."
   ]
  }
 ],
 "metadata": {
  "interpreter": {
   "hash": "2c6cda654b1514a8fc8c689ea1c3385d28a9b27d55c8e9fcc3d89f34e99cf63e"
  },
  "kernelspec": {
   "display_name": "Python 3.9.7 64-bit",
   "name": "python3"
  },
  "language_info": {
   "codemirror_mode": {
    "name": "ipython",
    "version": 3
   },
   "file_extension": ".py",
   "mimetype": "text/x-python",
   "name": "python",
   "nbconvert_exporter": "python",
   "pygments_lexer": "ipython3",
   "version": "3.9.7"
  },
  "orig_nbformat": 4
 },
 "nbformat": 4,
 "nbformat_minor": 2
}
