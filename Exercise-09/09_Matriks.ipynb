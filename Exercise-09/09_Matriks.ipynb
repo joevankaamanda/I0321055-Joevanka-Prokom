{
 "cells": [
  {
   "cell_type": "markdown",
   "metadata": {},
   "source": [
    "# Exercise 09  \n",
    "### OPERASI MATRIKS  \n",
    "Silahkan lengkapi kode yang rumpang sesuai perintah yang diberikan.\n"
   ]
  },
  {
   "cell_type": "markdown",
   "metadata": {},
   "source": [
    "![](./image/1.png)"
   ]
  },
  {
   "cell_type": "code",
   "execution_count": 17,
   "metadata": {},
   "outputs": [
    {
     "name": "stdout",
     "output_type": "stream",
     "text": [
      "[[59, 59], [59, 59]]\n",
      "[[51, 51], [51, 51]]\n"
     ]
    }
   ],
   "source": [
    "A = [[59,59],\n",
    "     [59,59]]\n",
    "\n",
    "B = [[51, 51],\n",
    "     [51, 51]]\n",
    "\n",
    "print(A)\n",
    "print(B)"
   ]
  },
  {
   "cell_type": "markdown",
   "metadata": {},
   "source": [
    "Buatlah matriks menggunakan metode perulangan for dengan ketentuan sebagai berikut:\n",
    "* Matriks A berisi angka sebesar 4 setelah nim kalian. (ex: nim = 12, nilai matriks [16, 16],[16,16])\n",
    "* Matriks B berisi angka sebesar 4 sebelum nim kalian. (ex: nim = 12, nilai matriks [8, 8],[8,8])\n"
   ]
  },
  {
   "cell_type": "code",
   "execution_count": 4,
   "metadata": {},
   "outputs": [
    {
     "name": "stdout",
     "output_type": "stream",
     "text": [
      "[[59, 59], [59, 59]]\n",
      "[[51, 51], [51, 51]]\n"
     ]
    }
   ],
   "source": [
    "def create(matriks, nim):\n",
    "    for i in range(2):\n",
    "        for k in range(2):\n",
    "            matriks[i][k] = nim\n",
    "create(A, 59)\n",
    "create(B, 51)\n",
    "\n",
    "print(A)\n",
    "print(B)"
   ]
  },
  {
   "cell_type": "markdown",
   "metadata": {},
   "source": [
    "## KERJAKAN SOAL BERIKUT\n",
    "1. Buatlah program penjumlahan matriks A dan B.\n",
    "2. Buatlah program pengurangan matriks A dan B.\n",
    "3. Buatlah program perkalian matriks A dan B."
   ]
  },
  {
   "cell_type": "code",
   "execution_count": 12,
   "metadata": {},
   "outputs": [
    {
     "name": "stdout",
     "output_type": "stream",
     "text": [
      "110 110 \n",
      "110 110 \n"
     ]
    }
   ],
   "source": [
    "#SOAL-1\n",
    "matriksA = [\n",
    "    [59, 59],\n",
    "    [51, 51],\n",
    "]\n",
    "matriksB = [\n",
    "    [51, 51],\n",
    "    [59, 59],\n",
    "]\n",
    "\n",
    "for x in range(len(matriksA)):\n",
    "    for y in range(len(matriksA[0])):\n",
    "        print(matriksA[x][y] + matriksB[x][y], end=' '),\n",
    "    print()"
   ]
  },
  {
   "cell_type": "code",
   "execution_count": 15,
   "metadata": {},
   "outputs": [
    {
     "name": "stdout",
     "output_type": "stream",
     "text": [
      "8 8 \n",
      "8 8 \n"
     ]
    }
   ],
   "source": [
    "#SOAL-2\n",
    "matriksA = [\n",
    "    [59, 59],\n",
    "    [59, 59],\n",
    "]\n",
    "matriksB = [\n",
    "    [51, 51],\n",
    "    [51, 51],\n",
    "]\n",
    "\n",
    "for x in range(len(matriksA)):\n",
    "    for y in range(len(matriksA[0])):\n",
    "        print(matriksA[x][y] - matriksB[x][y], end=' '),\n",
    "    print()"
   ]
  },
  {
   "cell_type": "code",
   "execution_count": 16,
   "metadata": {},
   "outputs": [
    {
     "name": "stdout",
     "output_type": "stream",
     "text": [
      "[3009, 2601]\n",
      "[3481, 3009]\n"
     ]
    }
   ],
   "source": [
    "#SOAL-3\n",
    "matriksA = [[59, 51],\n",
    "            [51, 59]]\n",
    "matriksB = [[51, 59],\n",
    "            [59, 51]]\n",
    "matriksC = [[0, 0],\n",
    "            [0, 0]]\n",
    "for i in range(len(matriksA)):\n",
    "    for j in range(len(matriksB[0])):\n",
    "        for k in range(len(matriksC)):\n",
    "            matriksC[i][j] =+ matriksA[i][k] * matriksB[k][j]\n",
    "\n",
    "for hasil in matriksC:\n",
    "    print(hasil)"
   ]
  },
  {
   "cell_type": "markdown",
   "metadata": {},
   "source": [
    "### Cara Pengumpulan\n",
    "\n",
    "1. Buka *New Terminal*\n",
    "2. Pastikan *path* Terminal adalah folder repositori kalian (NIM-Nama-Prokom).\n",
    "3. Tambahkan file yang akan ditrack dengan `git add <nama file>`. Nama file bisa diubah . (titik)  `git add .`yang artinya semua file dalam folder akan ditrack.\n",
    "4. Lakukan commit perubahan dengan `git commit -m <deskripsi>`.\n",
    "5. Lakukan push dengan `git push -u origin <nama branch>`. Nama branch dapat diketahui dengan `git branch`.\n",
    "6. Pastikan Exercise-02 telah terupload dan dapat diakses di repositori dengan mengaksesnya di browser."
   ]
  }
 ],
 "metadata": {
  "interpreter": {
   "hash": "0243f1dbe07b319362a8ad8b6e2b27776f1632aafc58fa80873e4edca5c9ab59"
  },
  "kernelspec": {
   "display_name": "Python 3.9.7 64-bit",
   "language": "python",
   "name": "python3"
  },
  "language_info": {
   "codemirror_mode": {
    "name": "ipython",
    "version": 3
   },
   "file_extension": ".py",
   "mimetype": "text/x-python",
   "name": "python",
   "nbconvert_exporter": "python",
   "pygments_lexer": "ipython3",
   "version": "3.9.7"
  },
  "orig_nbformat": 4
 },
 "nbformat": 4,
 "nbformat_minor": 2
}
